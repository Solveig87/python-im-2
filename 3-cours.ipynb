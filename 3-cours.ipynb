{
 "cells": [
  {
   "cell_type": "markdown",
   "metadata": {},
   "source": [
    "# Séance 3 – 14/10/2020"
   ]
  },
  {
   "cell_type": "markdown",
   "metadata": {},
   "source": [
    "## Exceptions\n",
    "\n",
    "* Les exceptions sont utilisées pour signaler que quelque chose d'anormal se produit, une erreur généralement\n",
    "\n",
    "* Les messages d'erreur générés par les exceptions donnent des détails précieux sur les erreurs (type, emplacement, ...)\n",
    "\n",
    "* Vous pouvez générer vos propres exceptions avec `raise`\n",
    "\n",
    "Revenons sur les listes de Swadesh des langues austronésiennes."
   ]
  },
  {
   "cell_type": "code",
   "execution_count": null,
   "metadata": {},
   "outputs": [],
   "source": [
    "import collections\n",
    "import csv\n",
    "\n",
    "def get_austro_words(lang1, lang2, words, file=\"data/austronesian_swadesh.csv\"):\n",
    "    \"\"\"\n",
    "    Exo 1\n",
    "    Reçoit un couple de langues (langue1, langue2) et une liste de mots (words)\n",
    "    Cherche dans la liste Swadesh des langues austronésiennes les traductions des mots\n",
    "    dans ces deux langues.\n",
    "    Renvoie un dictionnaire {'langue1': [w1, w2], 'langue2': [w1, w2]}\n",
    "    Exception si la langue n'est pas répertoriée dans la liste\n",
    "    \"\"\"\n",
    "    res = collections.defaultdict(list)\n",
    "    with open(file) as swadesh:\n",
    "        reader = csv.DictReader(swadesh)\n",
    "        if not (lang1 in reader.fieldnames):\n",
    "            raise ValueError(f\"{lang1} ne fait pas partie des langues de la liste.\")"
   ]
  },
  {
   "cell_type": "code",
   "execution_count": null,
   "metadata": {},
   "outputs": [],
   "source": [
    "get_austro_words('Hongrois', 'Tagalog', ['new', 'old', 'good'])"
   ]
  },
  {
   "cell_type": "markdown",
   "metadata": {},
   "source": [
    "### Capturer les exceptions\n",
    "\n",
    "* Si elles sont levées par Python vous pouvez capturer les exceptions (`try`, `except`) et modifier le comportement de votre script en fonction"
   ]
  },
  {
   "cell_type": "code",
   "execution_count": null,
   "metadata": {},
   "outputs": [],
   "source": [
    "val = [1, 2 ,3]\n",
    "try:\n",
    "    # votre code\n",
    "    print(val[1984])\n",
    "except IndexError:\n",
    "    # code exécuté en cas d'exception\n",
    "    print(\"Erreur d'indice. Mais le roman est bien\")"
   ]
  },
  {
   "cell_type": "markdown",
   "metadata": {},
   "source": [
    "* Facile à condition de sélectionner la bonne classe d'exception"
   ]
  },
  {
   "cell_type": "code",
   "execution_count": null,
   "metadata": {},
   "outputs": [],
   "source": [
    "dico = {'michel': 'H', 'michèle': 'F'}\n",
    "try:\n",
    "  print(dico[1984])\n",
    "except IndexError:\n",
    "  print(\"Erreur d'indice. Mais le roman est bien\")"
   ]
  },
  {
   "cell_type": "markdown",
   "metadata": {},
   "source": [
    "* Les exceptions Python sont organisées en hiérarchie (voir [ici](https://docs.python.org/3/library/exceptions.html#bltin-exceptions)), on finit par s'y retrouver\n",
    "* Utiliser la classe mère `Exception` réduit la précision de l'information sur l'erreur produite"
   ]
  },
  {
   "cell_type": "code",
   "execution_count": null,
   "metadata": {},
   "outputs": [],
   "source": [
    "l = []\n",
    "try:\n",
    "    print(dico[l[5]])\n",
    "except Exception:\n",
    "  print(\"Soit la clé n'existe pas, soit l'indice n'existe pas\")"
   ]
  },
  {
   "cell_type": "markdown",
   "metadata": {},
   "source": [
    "* Il est possible de capturer plusieurs types d'exceptions différentes"
   ]
  },
  {
   "cell_type": "code",
   "execution_count": null,
   "metadata": {},
   "outputs": [],
   "source": [
    "l = [1,2,3,4,5]\n",
    "try:\n",
    "  print(dico[l[5]])\n",
    "except IndexError:\n",
    "  print(\"L'indice n'existe pas\")\n",
    "except KeyError:\n",
    "  print(\"La clé n'existe pas\")"
   ]
  },
  {
   "cell_type": "markdown",
   "metadata": {},
   "source": [
    "## Pour finir sur les exceptions\n",
    "\n",
    "* Le bloc `else` sera exécuté si aucune exception n'est levée\n",
    "\n",
    "* Le bloc `finally` sera exécuté dans tous les cas de figure"
   ]
  },
  {
   "cell_type": "code",
   "execution_count": null,
   "metadata": {},
   "outputs": [],
   "source": [
    "l = [1,2,3,4,5,0]\n",
    "try:\n",
    "  print(dico[l[5]])\n",
    "except IndexError:\n",
    "  print(\"L'indice n'existe pas\")\n",
    "except KeyError:\n",
    "  print(\"La clé n'existe pas\")\n",
    "else:\n",
    "  print(\"OK tout roule\")\n",
    "finally:\n",
    "  print(\"C'est fini, vous pouvez rentrer\")"
   ]
  },
  {
   "cell_type": "markdown",
   "metadata": {},
   "source": [
    "### ✍️  Exo ✍️\n",
    "\n",
    "Modifiez le code de votre fonction `get_austro_words` et vérifiez qu'elle envoie bien une exception de la classe ValueError si la langue n'existe pas."
   ]
  },
  {
   "cell_type": "code",
   "execution_count": null,
   "metadata": {},
   "outputs": [],
   "source": [
    "!python corrections/austro.py"
   ]
  },
  {
   "cell_type": "markdown",
   "metadata": {},
   "source": [
    "## Module argparse\n",
    "\n",
    "* [`sys.argv`](https://docs.python.org/3/library/sys.html#sys.argv) permet de récupérer la liste des arguments passés à un script Python\n",
    "\n",
    "* Le module [`argparse`](https://docs.python.org/3/library/argparse.html) est un parseur qui vous permettra de construire des interfaces en ligne de commande plus riches et plus simples à utiliser.  \n",
    "Commencer avec le [tutorial](https://docs.python.org/3/howto/argparse.html)\n"
   ]
  },
  {
   "cell_type": "code",
   "execution_count": null,
   "metadata": {},
   "outputs": [],
   "source": [
    "import argparse\n",
    "\n",
    "\n",
    "# Typiquement les instructions qu'on met dans la fonction main()\n",
    "parser = argparse.ArgumentParser(description=\"Mots dans la liste de Swadesh\")\n",
    "parser.add_argument(\"-v\", \"--verbose\", help=\"verbose mode\", action=\"store_true\")\n",
    "parser.add_argument(\"file\", help=\"input file\")\n",
    "args = parser.parse_args()\n",
    "\n",
    "print(args.file)"
   ]
  },
  {
   "cell_type": "code",
   "execution_count": null,
   "metadata": {},
   "outputs": [],
   "source": [
    "!python files/arg_parse.py -h"
   ]
  },
  {
   "cell_type": "markdown",
   "metadata": {},
   "source": [
    "### ✍️  Exo ✍️\n",
    "\n",
    "Modifiez votre script sur les Swadeh austronésiens, utilisez `argparse` pour recevoir le fichier en argument au lancement du script."
   ]
  },
  {
   "cell_type": "markdown",
   "metadata": {},
   "source": [
    "## Module docopt\n",
    "\n",
    "Il doit être insallé pour pouvoir être utilisé. https://github.com/docopt/docopt\n",
    "\n",
    "Ce module s'appuie sur le message d'usage contenu dans le *doctstring* du script"
   ]
  },
  {
   "cell_type": "code",
   "execution_count": null,
   "metadata": {},
   "outputs": [],
   "source": [
    "\"\"\"essai_docopt\n",
    "Usage:\n",
    "  essai_docopt.py [options] <input>\n",
    "\n",
    "Options:\n",
    "  -h --help         show this\n",
    "  -o output_file    specify output file [default: ../res.txt]\n",
    "  -v --verbose      verbose\n",
    "\"\"\"\n",
    "\n",
    "from docopt import docopt\n",
    "\n",
    "def main():\n",
    "    arguments = docopt(__doc__)\n",
    "    if arguments['<input>'].endswith('.csv'):\n",
    "        print(arguments['<input>'])"
   ]
  },
  {
   "cell_type": "code",
   "execution_count": null,
   "metadata": {},
   "outputs": [],
   "source": [
    "!python files/essai_docopt.py -h"
   ]
  },
  {
   "cell_type": "markdown",
   "metadata": {},
   "source": [
    "# Module timeit\n",
    "\n",
    "* `timeit` permet de mesurer le temps d'éxécution de portions de code ou de fonctions\n",
    "\n",
    "* La mesure du temps d'éxécution se fait en microseconde (*usec*), en milliseconde (*msec*) ou en secondes (*sec*)\n",
    "\n",
    "* Ce module s'utilise en ligne de commande, dans une console (i)python ou via des appels dans un script\n",
    "\n",
    "* Lors de l'appel en ligne de commande, le module détermine automatiquement le nombre de répétitions à réaliser\n",
    "\n",
    "```bash\n",
    "$ python3 -m timeit \"[x**2 for x in range(100)]\"\n",
    "10000 loops, best of 3: 38.7 usec per loop\n",
    "```"
   ]
  },
  {
   "cell_type": "markdown",
   "metadata": {},
   "source": [
    "# Module timeit\n",
    "\n",
    "* La fonction la plus souvent utilisée est `timeit.timeit`\n",
    "\n",
    "* Ce n'est pas la seule, voir la [doc](https://docs.python.org/3.6/library/timeit.html)\n"
   ]
  },
  {
   "cell_type": "code",
   "execution_count": null,
   "metadata": {},
   "outputs": [],
   "source": [
    "import timeit\n",
    "\n",
    "def main():\n",
    "    time_char_in_str = timeit.timeit('str=\"le chat\"; char=\"a\"; char in str', number=10000)\n",
    "    print(\"Time char in str : {}\".format(time_char_in_str))\n",
    "\n",
    "    time_find = timeit.timeit(\"\"\"\\\n",
    "str = \"le chat\"\n",
    "char=\"a\"\n",
    "char.find(str)\n",
    "    \"\"\", number=10000)\n",
    "    print(\"Time find : {}\".format(time_find))\n",
    "\n",
    "main()"
   ]
  },
  {
   "cell_type": "markdown",
   "metadata": {},
   "source": [
    "* Vous pouvez donner accès aux fonctions individuellement via le paramètre 'setup'\n",
    "\n",
    "* Le plus pratique est d'utiliser le paramètre `global=globals()` pour lui passer l'espace de nom du script\n"
   ]
  },
  {
   "cell_type": "code",
   "execution_count": null,
   "metadata": {},
   "outputs": [],
   "source": [
    "import timeit\n",
    "\n",
    "def f(n):\n",
    "    res = list()\n",
    "    for x in range(n):\n",
    "        res.append(x**2)\n",
    "    return res\n",
    "\n",
    "def g(n):\n",
    "    return [x**2 for x in range(n)]\n",
    "\n",
    "def main():\n",
    "    try:\n",
    "        print(timeit.timeit('f(10)', number=100000))\n",
    "    except NameError:\n",
    "        print(\"f n'est pas trouvée!\") # on peut retirer le \"try/catch\" pour s'en convaincre\n",
    "    print(timeit.timeit('f(10)', number=100000, setup=\"from __main__ import f\"))\n",
    "    print(timeit.timeit('g(10)', number=100000, globals=globals()))\n",
    "\n",
    "main()"
   ]
  },
  {
   "cell_type": "markdown",
   "metadata": {},
   "source": [
    "  - Dans une console ipython vous pouvez utiliser les mots clés magiques %timeit et %%timeit\n",
    "\n"
   ]
  },
  {
   "cell_type": "code",
   "execution_count": null,
   "metadata": {},
   "outputs": [],
   "source": [
    "def f(n):\n",
    "    res = list()\n",
    "    for x in range(n):\n",
    "        res.append(x**2)\n",
    "    return res"
   ]
  },
  {
   "cell_type": "code",
   "execution_count": null,
   "metadata": {},
   "outputs": [],
   "source": [
    "%timeit -n 100000 \"f(10)\""
   ]
  },
  {
   "cell_type": "code",
   "execution_count": null,
   "metadata": {},
   "outputs": [],
   "source": [
    "%%timeit\n",
    "import random\n",
    "l = [random.random() for xxx in range(100000)]\n",
    "max(l)"
   ]
  },
  {
   "cell_type": "markdown",
   "metadata": {},
   "source": [
    "# Anacycliques\n",
    "\n",
    "Un anacyclique est un mot qui peut se lire de gauche à droite ou de droite à gauche. Les palindromes sont des cas particuliers d'anacycliques.  \n",
    "Ex : 'été' est un palidrome  \n",
    "'vu' et 'uv', 'tort' et 'trot' sont des anacycliques"
   ]
  },
  {
   "cell_type": "code",
   "execution_count": null,
   "metadata": {},
   "outputs": [],
   "source": [
    "def is_anacyclique(word1, word2):\n",
    "    \"\"\"\n",
    "    Returns True si les mots sont  anacycliques\n",
    "    False sinon\n",
    "    \"\"\"\n",
    "    return word1 == word2[::-1]"
   ]
  },
  {
   "cell_type": "code",
   "execution_count": null,
   "metadata": {},
   "outputs": [],
   "source": [
    "assert is_anacyclique(\"tort\", \"trot\") == True\n",
    "assert is_anacyclique(\"tortue\", \"trot\") == False"
   ]
  },
  {
   "cell_type": "markdown",
   "metadata": {},
   "source": [
    "### ✍️  Exo ✍️\n",
    "\n",
    "Trouver les anacycliques dans les formes orthographiques du fichier `Lexique383.tsv` (http://www.lexique.org/databases/Lexique383/Lexique383.zip).  \n",
    "Vous testerez trois structures de données (listes, ensembles et dictionnaire) et vous mesurerez le temps d'exécution avec timeit. Utilisez des fonctions !\n",
    "\n",
    "Celles ou ceux qui voudront en savoir plus pourront lire https://wiki.python.org/moin/TimeComplexity et http://www.laurentluce.com/posts/python-dictionary-implementation "
   ]
  },
  {
   "cell_type": "code",
   "execution_count": 4,
   "metadata": {},
   "outputs": [],
   "source": [
    "def find_anacycliques(words):\n",
    "    \"\"\"\n",
    "    Trouve les anacycliques dans les données passées en paramètre\n",
    "    words est une séquence (peut être list, dict ou set)\n",
    "    \"\"\"\n",
    "    res = []\n",
    "    for word in words:\n",
    "        if word[::-1] in words:\n",
    "            res.append((word, word[::-1]))\n",
    "    return res"
   ]
  },
  {
   "cell_type": "code",
   "execution_count": 19,
   "metadata": {},
   "outputs": [
    {
     "name": "stdout",
     "output_type": "stream",
     "text": [
      "2min 24s ± 3.43 s per loop (mean ± std. dev. of 7 runs, 1 loop each)\n"
     ]
    }
   ],
   "source": [
    "%%timeit\n",
    "import csv\n",
    "# avec une liste\n",
    "# attention si vous lancez avec les données complètes c'est trèèèèèèès long\n",
    "\n",
    "input_file = \"/home/clement/l-pro/rsrc/lexique.org/Lexique383_100000.tsv\"\n",
    "words = []\n",
    "with open(input_file) as lexique:\n",
    "        reader = csv.DictReader(lexique, delimiter='\\t')\n",
    "        for row in reader:\n",
    "            words.append(row['ortho'])\n",
    "find_anacycliques(words)"
   ]
  },
  {
   "cell_type": "code",
   "execution_count": 17,
   "metadata": {},
   "outputs": [
    {
     "name": "stdout",
     "output_type": "stream",
     "text": [
      "789 ms ± 9.22 ms per loop (mean ± std. dev. of 7 runs, 1 loop each)\n"
     ]
    }
   ],
   "source": [
    "%%timeit\n",
    "import csv\n",
    "# avec un dictionnaire\n",
    "\n",
    "input_file = \"/home/clement/l-pro/rsrc/lexique.org/Lexique383_100000.tsv\"\n",
    "words = {}\n",
    "with open(input_file) as lexique:\n",
    "        reader = csv.DictReader(lexique, delimiter='\\t')\n",
    "        for row in reader:\n",
    "            words[row['ortho']] = \"\"\n",
    "find_anacycliques(words)"
   ]
  },
  {
   "cell_type": "code",
   "execution_count": 18,
   "metadata": {},
   "outputs": [
    {
     "name": "stdout",
     "output_type": "stream",
     "text": [
      "796 ms ± 4.79 ms per loop (mean ± std. dev. of 7 runs, 1 loop each)\n"
     ]
    }
   ],
   "source": [
    "%%timeit\n",
    "import csv\n",
    "# avec un ensemble (set)\n",
    "\n",
    "input_file = \"/home/clement/l-pro/rsrc/lexique.org/Lexique383_100000.tsv\"\n",
    "words = set()\n",
    "with open(input_file) as lexique:\n",
    "        reader = csv.DictReader(lexique, delimiter='\\t')\n",
    "        for row in reader:\n",
    "            words.add(row['ortho'])\n",
    "find_anacycliques(words)"
   ]
  },
  {
   "cell_type": "markdown",
   "metadata": {},
   "source": [
    "### ☕  Exos ☕"
   ]
  },
  {
   "cell_type": "markdown",
   "metadata": {},
   "source": [
    "Vous écrirez un script qui reçoit en argument un fichier csv et un préfixe. Le script renverra tous les mots du fichier qui commencent par ce préfixe.  \n",
    "Vous pourrez travailler sur `austronesian_swadesh.csv` ou `Lexique383.tsv` par exemple."
   ]
  }
 ],
 "metadata": {
  "kernelspec": {
   "display_name": "Python 3",
   "language": "python",
   "name": "python3"
  },
  "language_info": {
   "codemirror_mode": {
    "name": "ipython",
    "version": 3
   },
   "file_extension": ".py",
   "mimetype": "text/x-python",
   "name": "python",
   "nbconvert_exporter": "python",
   "pygments_lexer": "ipython3",
   "version": "3.7.4"
  }
 },
 "nbformat": 4,
 "nbformat_minor": 4
}
